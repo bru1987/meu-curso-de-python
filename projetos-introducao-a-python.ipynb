{
 "cells": [
  {
   "cell_type": "markdown",
   "metadata": {},
   "source": [
    "Aqui vou testar meus projetos, jogando o código direto!"
   ]
  },
  {
   "cell_type": "markdown",
   "metadata": {},
   "source": [
    "## Código Morsi"
   ]
  },
  {
   "cell_type": "markdown",
   "metadata": {},
   "source": [
    "Lalala"
   ]
  },
  {
   "cell_type": "code",
   "execution_count": 1,
   "metadata": {},
   "outputs": [
    {
     "name": "stdout",
     "output_type": "stream",
     "text": [
      "Insira uma letra: A\n",
      "Mensagem em código Morsi:  ***\n"
     ]
    }
   ],
   "source": [
    "dic_morsi ={\n",
    "    'A' : \"***\",\n",
    "    'B' : \"-*-*\"\n",
    "}\n",
    "\n",
    "# Letra inserida pelo usuário\n",
    "letra = input('Insira uma letra: ')\n",
    "\n",
    "# -1 is the default value if there is no keys that matches the input\n",
    "print('Mensagem em código Morsi: ', dic_morsi.get(letra, \"Insira caracteres válidos\"))"
   ]
  },
  {
   "cell_type": "markdown",
   "metadata": {
    "collapsed": true
   },
   "source": [
    "Vamos agora ler toda uma string de forma que a mensagem corra e possamos obter todos os caracteres dela. Faremos isso usando somente as letras A e B, a princípio. Também, somente exibiremos a lista sem concatenar a resposta/expressão completa. A resposta quase final do exercício está comentada. Devo separar caracteres da mesma palavra? Como separar caracteres em palavras diferentes?"
   ]
  },
  {
   "cell_type": "code",
   "execution_count": 21,
   "metadata": {},
   "outputs": [
    {
     "name": "stdout",
     "output_type": "stream",
     "text": [
      "Insira uma mensagem utilizando somente os caracteres A e B, sem espaços ou pontuações: \n",
      "0\n",
      "Mensagem em código Morsi:  Insira caracteres válidos\n"
     ]
    }
   ],
   "source": [
    "dic_morsi ={\n",
    "    'A' : \"***\",\n",
    "    'B' : \"-*-*\"\n",
    "}\n",
    "\n",
    "# Letra inserida pelo usuário\n",
    "mensagem_original = input('Insira uma mensagem utilizando somente os caracteres A e B, sem espaços ou pontuações: ')\n",
    "\n",
    "numero_de_caracteres = len(mensagem_original)\n",
    "\n",
    "# Apenas para conferência\n",
    "print(numero_de_caracteres)\n",
    "\n",
    "# Inicializando nosso contador\n",
    "contador = 0\n",
    "mensagem_morsi = \"\"\n",
    "\n",
    "while contador < numero_de_caracteres:\n",
    "    caractere_original = mensagem_original[contador]\n",
    "    caractere_morsi = dic_morsi.get(caractere_original, \"Insira caracteres válidos\")\n",
    "    print(caractere_morsi)\n",
    "    mensagem_morsi += caractere_morsi\n",
    "    contador += 1\n",
    "\n",
    "# Como colocar a mensagem de erro caso a pessoa insira algum valor ilegal?\n",
    "# Para concatenar a resposta: mensagem_morsi += caractere\n",
    "# print(\"Mensagem em código Morsi: \", mensagem_morsi)\n",
    "print('Mensagem em código Morsi: ', dic_morsi.get(mensagem_original, \"Insira caracteres válidos\"))"
   ]
  },
  {
   "cell_type": "markdown",
   "metadata": {},
   "source": [
    "Colocar o código acima em um loop para que a mensagem \"corra\" e seja exibida na medida que o programa a lê."
   ]
  },
  {
   "cell_type": "markdown",
   "metadata": {},
   "source": [
    "## Rock Paper Scisors"
   ]
  },
  {
   "cell_type": "markdown",
   "metadata": {},
   "source": [
    "Make a two-player Rock-Paper-Scissors game. (Hint: Ask for player plays (using input), compare them, print out a message of congratulations to the winner, and ask if the players want to start a new game)\n",
    "\n",
    "Remember the rules:\n",
    "\n",
    "- Rock beats scissors\n",
    "- Scissors beats paper\n",
    "- Paper beats rock\n",
    "\n",
    "More...\n",
    "Show how many wins\n",
    "\n",
    "More...error checking"
   ]
  },
  {
   "cell_type": "markdown",
   "metadata": {},
   "source": [
    "## Resposta"
   ]
  },
  {
   "cell_type": "code",
   "execution_count": 14,
   "metadata": {},
   "outputs": [
    {
     "name": "stdout",
     "output_type": "stream",
     "text": [
      "Welcome to Rock Paper Scisors!\n",
      "Commands to play: R for rock, P for paper, S for scisor and Q to quit\n",
      "Enter your command: R\n",
      "You typed R\n",
      "The computer chose R\n",
      "It's a tie!\n",
      "Enter your command: R\n",
      "You typed R\n",
      "The computer chose R\n",
      "It's a tie!\n",
      "Enter your command: R\n",
      "You typed R\n",
      "The computer chose R\n",
      "It's a tie!\n",
      "Enter your command: R\n",
      "You typed R\n",
      "The computer chose P\n",
      "PC wins =(\n",
      "Enter your command: R\n",
      "You typed R\n",
      "The computer chose S\n",
      "You win =)\n",
      "Enter your command: R\n",
      "You typed R\n",
      "The computer chose S\n",
      "You win =)\n",
      "Enter your command: Q\n",
      "In this game you won  2  times, the PC won  0  times and there were  3  ties\n",
      "Thank you for playing!\n"
     ]
    }
   ],
   "source": [
    "import random\n",
    "\n",
    "# Let's teach the user to play the game\n",
    "print(\"Welcome to Rock Paper Scisors!\")\n",
    "print(\"Commands to play: R for rock, P for paper, S for scisor and Q to quit\")\n",
    "\n",
    "# The program\n",
    "\n",
    "# Counter for wins and ties\n",
    "user_wins = 0\n",
    "pc_wins = 0\n",
    "ties = 0\n",
    "\n",
    "while True: \n",
    "    user_command = input(\"Enter your command: \")\n",
    "    # Randomly generating the computer's answer\n",
    "    pc_command = random.choice(\"RPS\")\n",
    "    if user_command == \"Q\":\n",
    "        print(\"In this game you won \", user_wins, \" times, the PC won \", pc_wins, \" times and there were \", ties, \" ties\")\n",
    "        print(\"Thank you for playing!\")\n",
    "        break\n",
    "    else: \n",
    "        print(\"You typed \" + user_command)\n",
    "        print(\"The computer chose \" + pc_command)\n",
    "        \n",
    "        if user_command == \"R\":\n",
    "            if pc_command == \"R\":\n",
    "                print(\"It's a tie!\")\n",
    "                ties += 1\n",
    "            elif pc_command == \"P\":\n",
    "                print(\"PC wins =(\")\n",
    "                pc_wins = 0\n",
    "            elif pc_command == \"S\":\n",
    "                print(\"You win =)\")\n",
    "                user_wins += 1\n",
    "        elif user_command == \"P\":\n",
    "            if pc_command == \"R\":\n",
    "                print(\"You win =)\")\n",
    "                user_wins += 1\n",
    "            elif pc_command == \"P\":\n",
    "                print(\"It's a tie!\")\n",
    "                ties += 1\n",
    "            elif pc_command == \"S\":\n",
    "                print(\"PC wins =(\")\n",
    "                pc_wins = 0\n",
    "        elif user_command == \"S\":\n",
    "            if pc_command == \"R\":\n",
    "                print(\"PC wins =(\")\n",
    "                pc_wins = 0\n",
    "            elif pc_command == \"P\":\n",
    "                print(\"You win =)\")\n",
    "                user_wins += 1\n",
    "            elif pc_command == \"S\":\n",
    "                print(\"It's a tie!\")\n",
    "                ties += 1\n"
   ]
  },
  {
   "cell_type": "markdown",
   "metadata": {},
   "source": [
    "### Guessing"
   ]
  },
  {
   "cell_type": "markdown",
   "metadata": {},
   "source": [
    "Generate a random number between 1 and 9 (including 1 and 9). Ask the user to guess the number, then tell them whether they guessed too low, too high, or exactly right. (Hint: remember to use the user input lessons from the very first exercise)\n",
    "\n",
    "Extras:\n",
    "\n",
    "Keep the game going until the user types “exit”\n",
    "Keep track of how many guesses the user has taken, and when the game ends, print this out."
   ]
  },
  {
   "cell_type": "markdown",
   "metadata": {},
   "source": [
    "### Answer"
   ]
  },
  {
   "cell_type": "code",
   "execution_count": 2,
   "metadata": {},
   "outputs": [
    {
     "name": "stdout",
     "output_type": "stream",
     "text": [
      "Welcome to the guesing game!\n",
      "Type in 0 to leave the game anytime\n",
      "I am thinking of a number between 1 and 10. Which number is it?\n",
      "Your guess: 2\n",
      "Your guess is too low\n",
      "Your guess: 23\n",
      "Your guess is too high\n",
      "Your guess: 3\n",
      "Your guess is too low\n",
      "Your guess: 4\n",
      "Your guess is too low\n",
      "Your guess: 5\n",
      "Yes that's the number!\n",
      "I am thinking of a number between 1 and 10. Which number is it?\n",
      "Your guess: 0\n",
      "Thank you for paying!\n"
     ]
    }
   ],
   "source": [
    "import random\n",
    "\n",
    "# Let's teach the user to play the game\n",
    "print(\"Welcome to the guesing game!\")\n",
    "print(\"Type in 0 to leave the game anytime\")\n",
    "end = False\n",
    "\n",
    "while True:\n",
    "    number = random.randint(1, 10)\n",
    "    print(\"I am thinking of a number between 1 and 10. Which number is it?\")\n",
    "    while True:\n",
    "        user_guess = int(input(\"Your guess: \"))\n",
    "        if user_guess== 0:\n",
    "            print(\"Thank you for paying!\")\n",
    "            end = True\n",
    "            break\n",
    "        else:\n",
    "            if user_guess > number:\n",
    "                print(\"Your guess is too high\")\n",
    "            elif user_guess < number:\n",
    "                print(\"Your guess is too low\")\n",
    "            elif user_guess == number: \n",
    "                print(\"Yes that's the number!\")\n",
    "                break\n",
    "    if end:\n",
    "        break"
   ]
  },
  {
   "cell_type": "code",
   "execution_count": null,
   "metadata": {
    "collapsed": true
   },
   "outputs": [],
   "source": []
  }
 ],
 "metadata": {
  "kernelspec": {
   "display_name": "Python 3",
   "language": "python",
   "name": "python3"
  },
  "language_info": {
   "codemirror_mode": {
    "name": "ipython",
    "version": 3
   },
   "file_extension": ".py",
   "mimetype": "text/x-python",
   "name": "python",
   "nbconvert_exporter": "python",
   "pygments_lexer": "ipython3",
   "version": "3.6.1"
  }
 },
 "nbformat": 4,
 "nbformat_minor": 2
}
