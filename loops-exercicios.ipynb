{
 "cells": [
  {
   "cell_type": "code",
   "execution_count": null,
   "metadata": {
    "collapsed": true
   },
   "outputs": [],
   "source": []
  },
  {
   "cell_type": "markdown",
   "metadata": {},
   "source": [
    "## Galinha pintadinha"
   ]
  },
  {
   "cell_type": "markdown",
   "metadata": {},
   "source": [
    "Crie um programa que imprima, na tela do usuário, a letra da música abaixo até 25 elefantes!"
   ]
  },
  {
   "cell_type": "markdown",
   "metadata": {},
   "source": [
    "1 elefante incomoda muita gente\n",
    "\n",
    "2 elefantes incomodam, incomodam muito mais\n",
    "\n",
    "3 elefantes incomodam muita gente\n",
    "\n",
    "4 elefantes incomodam, incomodam, incomodam, incomodam muito mais\n",
    "\n",
    "5 elefantes incomodam muita gente\n",
    "\n",
    "6 elefantes incomodam, incomodam, incomodam, incomodam, incomodam, incomodam muito mais"
   ]
  },
  {
   "cell_type": "markdown",
   "metadata": {
    "collapsed": true
   },
   "source": [
    "### Exercício"
   ]
  },
  {
   "cell_type": "markdown",
   "metadata": {},
   "source": [
    "Ask the user for a number. Depending on whether the number is even or odd, print out an appropriate message to the user. Hint: how does an even / odd number react differently when divided by 2?\n",
    "\n",
    "Extras:\n",
    "\n",
    "If the number is a multiple of 4, print out a different message.\n",
    "Ask the user for two numbers: one number to check (call it num) and one number to divide by (check). If check divides evenly into num, tell that to the user. If not, print a different appropriate message.\n",
    "Mais uma variação: o usuário não pode digitar um número negativo ou zero no numerador ou no denominador."
   ]
  },
  {
   "cell_type": "code",
   "execution_count": null,
   "metadata": {
    "collapsed": true
   },
   "outputs": [],
   "source": []
  },
  {
   "cell_type": "code",
   "execution_count": null,
   "metadata": {
    "collapsed": true
   },
   "outputs": [],
   "source": []
  },
  {
   "cell_type": "markdown",
   "metadata": {},
   "source": [
    "### Resposta"
   ]
  },
  {
   "cell_type": "code",
   "execution_count": 1,
   "metadata": {},
   "outputs": [
    {
     "name": "stdout",
     "output_type": "stream",
     "text": [
      "Escreva um número inteiro: 2\n",
      "Este número é divisível por 2\n"
     ]
    }
   ],
   "source": [
    "numero = int(input(\"Escreva um número inteiro: \"))\n",
    "\n",
    "if (numero % 2 == 0):\n",
    "    print(\"Este número é divisível por 2\")\n",
    "    \n",
    "    if (numero % 4 == 0):\n",
    "        print(\"Aliás, este número também é divisível por 4\")\n",
    "    \n",
    "else: \n",
    "    print(\"Este número não é divisível por 2\")"
   ]
  },
  {
   "cell_type": "code",
   "execution_count": 2,
   "metadata": {},
   "outputs": [
    {
     "name": "stdout",
     "output_type": "stream",
     "text": [
      "Escreva um número inteiro: 2\n",
      "Escreva um possível divisor: 2\n",
      "2 é divisível por 2\n"
     ]
    }
   ],
   "source": [
    "numero = int(input(\"Escreva um número inteiro: \"))\n",
    "divisor = int(input(\"Escreva um possível divisor: \"))\n",
    "\n",
    "if (numero % divisor == 0):\n",
    "    print(numero,\"é divisível por\", divisor)\n",
    "    \n",
    "else: \n",
    "    print(numero, \"não é divisível por\", divisor)"
   ]
  },
  {
   "cell_type": "code",
   "execution_count": 12,
   "metadata": {},
   "outputs": [
    {
     "name": "stdout",
     "output_type": "stream",
     "text": [
      "Insira um valor inteiro positivo3.3\n",
      "O número precisa ser inteiro\n",
      "Insira um valor inteiro positivo-2\n",
      "Insira um valor inteiro positivo2\n",
      "Insira um possível divisor inteiro positivo2.2\n",
      "O número precisa ser inteiro\n",
      "Insira um possível divisor inteiro positivo-4\n",
      "Insira um possível divisor inteiro positivo2\n",
      "2 é divisível por 2\n"
     ]
    }
   ],
   "source": [
    "while True:\n",
    "    try:   \n",
    "        numero=int(input(\"Insira um valor inteiro positivo\"))\n",
    "        if numero > 0:\n",
    "            break\n",
    "        else:\n",
    "            #print(\"O número precisa ser positivo\")\n",
    "            continue \n",
    "            \n",
    "    except ValueError:\n",
    "       print(\"O número precisa ser inteiro\")\n",
    "       continue\n",
    "    else:\n",
    "        break\n",
    "        \n",
    "while True:\n",
    "    try:   \n",
    "        divisor=int(input(\"Insira um possível divisor inteiro positivo\"))\n",
    "        if divisor > 0:\n",
    "            break\n",
    "        else:\n",
    "            #print(\"O número precisa ser positivo\")\n",
    "            continue \n",
    "            \n",
    "    except ValueError:\n",
    "       print(\"O número precisa ser inteiro\")\n",
    "       continue\n",
    "    else:\n",
    "        break\n",
    "\n",
    "if (numero % divisor == 0):\n",
    "    print(numero,\"é divisível por\", divisor)\n",
    "    \n",
    "else: \n",
    "    print(numero, \"não é divisível por\", divisor)"
   ]
  },
  {
   "cell_type": "markdown",
   "metadata": {},
   "source": [
    "### Exercício"
   ]
  },
  {
   "cell_type": "markdown",
   "metadata": {
    "collapsed": true
   },
   "source": [
    "Take a list, say for example this one:"
   ]
  },
  {
   "cell_type": "code",
   "execution_count": 4,
   "metadata": {
    "collapsed": true
   },
   "outputs": [],
   "source": [
    "lista = [1, 1, 2, 3, 5, 8, 13, 21, 34, 55, 89]"
   ]
  },
  {
   "cell_type": "markdown",
   "metadata": {},
   "source": [
    "and write a program that prints out all the elements of the list that are less than 5.\n",
    "\n",
    "Extras:\n",
    "\n",
    "- Instead of printing the elements one by one, make a new list that has all the elements less than 5 from this list in it and print out this new list.\n",
    "- Ask the user for a number and return a list that contains only elements from the original list a that are smaller than that number given by the user.\n",
    "- Make sure that the user actually inserted an integer"
   ]
  },
  {
   "cell_type": "markdown",
   "metadata": {},
   "source": [
    "### Resposta"
   ]
  },
  {
   "cell_type": "code",
   "execution_count": 5,
   "metadata": {},
   "outputs": [
    {
     "name": "stdout",
     "output_type": "stream",
     "text": [
      "[1, 1, 2, 3, 5, 8, 13, 21, 34, 55, 89]\n",
      "1\n",
      "1\n",
      "2\n",
      "3\n"
     ]
    }
   ],
   "source": [
    "print(lista)\n",
    "\n",
    "for i in lista:\n",
    "    if i < 5:\n",
    "        print(i)"
   ]
  },
  {
   "cell_type": "code",
   "execution_count": 6,
   "metadata": {},
   "outputs": [
    {
     "name": "stdout",
     "output_type": "stream",
     "text": [
      "[1, 1, 2, 3, 5, 8, 13, 21, 34, 55, 89]\n",
      "[1, 1, 2, 3]\n"
     ]
    }
   ],
   "source": [
    "print(lista)\n",
    "resposta=[]\n",
    "\n",
    "for i in lista:\n",
    "    if i < 5:\n",
    "        resposta.append(i)\n",
    "        \n",
    "print (resposta)"
   ]
  },
  {
   "cell_type": "code",
   "execution_count": 7,
   "metadata": {},
   "outputs": [
    {
     "name": "stdout",
     "output_type": "stream",
     "text": [
      "[1, 1, 2, 3, 5, 8, 13, 21, 34, 55, 89]\n",
      "Insira um valor: 22\n",
      "[1, 1, 2, 3, 5, 8, 13, 21]\n"
     ]
    }
   ],
   "source": [
    "print(lista)\n",
    "resposta=[]\n",
    "\n",
    "n = int(input(\"Insira um valor: \")) # Aqui vamos confiar que ele de fato irá inserir um valor inteiro\n",
    "\n",
    "for i in lista:\n",
    "    if i < n:\n",
    "        resposta.append(i)\n",
    "        \n",
    "print (resposta)"
   ]
  },
  {
   "cell_type": "code",
   "execution_count": 8,
   "metadata": {},
   "outputs": [
    {
     "name": "stdout",
     "output_type": "stream",
     "text": [
      "[1, 1, 2, 3, 5, 8, 13, 21, 34, 55, 89]\n",
      "Insira um valor inteiro positivo: 22\n",
      "[1, 1, 2, 3, 5, 8, 13, 21]\n"
     ]
    }
   ],
   "source": [
    "print(lista)\n",
    "\n",
    "while True:\n",
    "    try:   \n",
    "        n=int(input(\"Insira um valor inteiro positivo: \"))\n",
    "        # Aqui vamos verificar se ele de fato irá inserir um valor inteiro\n",
    "        if isinstance(n, int):\n",
    "            break\n",
    "        else:\n",
    "            continue\n",
    "            \n",
    "    except ValueError:\n",
    "       print(\"O número precisa ser inteiro\")\n",
    "       continue\n",
    "    else:\n",
    "        break\n",
    "            \n",
    "resposta=[]\n",
    "\n",
    "for i in lista:\n",
    "    if i < n:\n",
    "        resposta.append(i)\n",
    "\n",
    "print (resposta)"
   ]
  },
  {
   "cell_type": "code",
   "execution_count": 9,
   "metadata": {},
   "outputs": [
    {
     "name": "stdout",
     "output_type": "stream",
     "text": [
      "[1, 1, 2, 3, 5, 8, 13, 21, 34, 55, 89]\n"
     ]
    }
   ],
   "source": [
    "print(lista)"
   ]
  },
  {
   "cell_type": "markdown",
   "metadata": {},
   "source": [
    "## Exercício"
   ]
  },
  {
   "cell_type": "markdown",
   "metadata": {},
   "source": [
    " Crie um programa que crie uma lista de números primos até o valor que foi inserido pelo usuário"
   ]
  },
  {
   "cell_type": "markdown",
   "metadata": {},
   "source": [
    "### Resposta"
   ]
  },
  {
   "cell_type": "code",
   "execution_count": 10,
   "metadata": {},
   "outputs": [
    {
     "name": "stdout",
     "output_type": "stream",
     "text": [
      "[1, 2, 4, 5, 7, 11, 13, 17, 19, 23, 29, 31, 37, 41, 43, 47, 53, 59, 61, 67, 71, 73, 79, 83, 89] \n",
      " 0.00022411346435546875\n"
     ]
    }
   ],
   "source": [
    "import time\n",
    "\n",
    "def primes_1(n):\n",
    "\n",
    "    start = time.time()\n",
    "\n",
    "    # The number 1 is a prime number. Therefore, we shall start the list with it.\n",
    "    primes = [1,2]\n",
    "\n",
    "    for candidate_for_prime in range (3,n+1):\n",
    "        # Let's evaluate all primes up till n\n",
    "        # since all primes are odd, we can save some computing time\n",
    "        # by using 2 as step and starting with 3\n",
    "        \n",
    "        for i in range (3,candidate_for_prime): \n",
    "            if (candidate_for_prime % i == 0):\n",
    "                break\n",
    "            elif ((candidate_for_prime % i != 0) & (i + 1 == candidate_for_prime)):\n",
    "                primes.append(candidate_for_prime)\n",
    "\n",
    "    elapsed = time.time() - start\n",
    "\n",
    "    print (primes,\"\\n\", elapsed)\n",
    "    \n",
    "    return primes\n",
    "\n",
    "primes = primes_1(95)"
   ]
  },
  {
   "cell_type": "markdown",
   "metadata": {},
   "source": [
    "### Exercício"
   ]
  },
  {
   "cell_type": "markdown",
   "metadata": {
    "collapsed": true
   },
   "source": [
    " Crie um programa que crie uma lista de divisores de um valor que foi inserido pelo usuário"
   ]
  },
  {
   "cell_type": "markdown",
   "metadata": {},
   "source": [
    "### Resposta"
   ]
  },
  {
   "cell_type": "code",
   "execution_count": null,
   "metadata": {
    "collapsed": true
   },
   "outputs": [],
   "source": [
    "import time\n",
    "\n",
    "def divisors_1(n):\n",
    "\n",
    "    start = time.time()\n",
    "\n",
    "    # The number 1, obviously, will always be a divisor, so let's\n",
    "    # initiate the list with it\n",
    "    divisors = [1]\n",
    "\n",
    "    for i in range (2,n+1): # Começando com o 2 já que obviamente todos são divisíveis por 1\n",
    "        if n % i == 0:\n",
    "            divisors.append(i)\n",
    "\n",
    "    elapsed = time.time() - start\n",
    "\n",
    "    print (divisors,\"\\n\", elapsed)\n",
    "    \n",
    "    return divisors\n",
    "\n",
    "# Let´s test if the algorithm is working properly\n",
    "divisors = divisors_1(95)"
   ]
  },
  {
   "cell_type": "code",
   "execution_count": null,
   "metadata": {
    "collapsed": true
   },
   "outputs": [],
   "source": []
  },
  {
   "cell_type": "code",
   "execution_count": null,
   "metadata": {
    "collapsed": true
   },
   "outputs": [],
   "source": []
  }
 ],
 "metadata": {
  "kernelspec": {
   "display_name": "Python 3",
   "language": "python",
   "name": "python3"
  },
  "language_info": {
   "codemirror_mode": {
    "name": "ipython",
    "version": 3
   },
   "file_extension": ".py",
   "mimetype": "text/x-python",
   "name": "python",
   "nbconvert_exporter": "python",
   "pygments_lexer": "ipython3",
   "version": "3.6.1"
  }
 },
 "nbformat": 4,
 "nbformat_minor": 2
}
