{
 "cells": [
  {
   "cell_type": "markdown",
   "metadata": {},
   "source": [
    "## Exercício"
   ]
  },
  {
   "cell_type": "markdown",
   "metadata": {},
   "source": [
    "Crie uma função que calcula a Fórmula de Bháskara dado o input do usuário para a, b e c"
   ]
  },
  {
   "cell_type": "markdown",
   "metadata": {
    "collapsed": true
   },
   "source": [
    "## Resposta"
   ]
  },
  {
   "cell_type": "markdown",
   "metadata": {},
   "source": [
    "..."
   ]
  },
  {
   "cell_type": "markdown",
   "metadata": {},
   "source": [
    "## Exercício"
   ]
  },
  {
   "cell_type": "markdown",
   "metadata": {},
   "source": [
    "Use expressões lambda e a função filter() para filtrar s palavras de uma lista que não começa com `c`."
   ]
  },
  {
   "cell_type": "code",
   "execution_count": 2,
   "metadata": {
    "collapsed": true
   },
   "outputs": [],
   "source": [
    "lista = [\"carro\",\"uva\",\"maçã\",\"olho\",\"carteira\",\"python\",\"machine\",\"learning\",\"ótimo\"]"
   ]
  },
  {
   "cell_type": "markdown",
   "metadata": {},
   "source": [
    "## Resposta"
   ]
  },
  {
   "cell_type": "markdown",
   "metadata": {},
   "source": [
    "..."
   ]
  },
  {
   "cell_type": "markdown",
   "metadata": {
    "collapsed": true
   },
   "source": [
    "### Exercícios"
   ]
  },
  {
   "cell_type": "markdown",
   "metadata": {},
   "source": [
    "Write a program that asks the user how many Fibonnaci numbers to generate and then generates them. Take this opportunity to think about how you can use functions. Make sure to ask the user to enter the number of numbers in the sequence to generate."
   ]
  },
  {
   "cell_type": "markdown",
   "metadata": {},
   "source": [
    "### Resposta"
   ]
  },
  {
   "cell_type": "code",
   "execution_count": 26,
   "metadata": {},
   "outputs": [
    {
     "data": {
      "text/plain": [
       "[1, 1, 2, 3, 5]"
      ]
     },
     "execution_count": 26,
     "metadata": {},
     "output_type": "execute_result"
    }
   ],
   "source": [
    "def how_many_fibonaccis(n):\n",
    "    \n",
    "    if n == 1:\n",
    "        list = [1]\n",
    "        \n",
    "    if n == 2:\n",
    "        list = [1,1]\n",
    "        \n",
    "    elif (n != 1 & n != 2):\n",
    "        list = [1,1]\n",
    "        \n",
    "        for i in range (1,n-1):\n",
    "            a1 = list[-2]\n",
    "            a2 = list[-1]\n",
    "            a3 = a1+a2\n",
    "            list.append(a3)\n",
    "    \n",
    "    return list\n",
    "\n",
    "how_many_fibonaccis(5)"
   ]
  },
  {
   "cell_type": "markdown",
   "metadata": {
    "collapsed": true
   },
   "source": [
    "### Exercise"
   ]
  },
  {
   "cell_type": "markdown",
   "metadata": {},
   "source": [
    "Write a program (function!) that takes a list and returns a new list that contains all the elements of the first list minus all the duplicates.\n",
    "\n",
    "Extras:\n",
    "\n",
    "Write two different functions to do this - one using a loop and constructing a list, and another using sets.\n",
    "Go back and do Exercise 5 using sets, and write the solution for that in a different function."
   ]
  },
  {
   "cell_type": "markdown",
   "metadata": {},
   "source": [
    "### Solution"
   ]
  },
  {
   "cell_type": "code",
   "execution_count": 4,
   "metadata": {},
   "outputs": [
    {
     "name": "stdout",
     "output_type": "stream",
     "text": [
      "[1, 3, 4, 5, 7, 10]\n"
     ]
    }
   ],
   "source": [
    "# Using a loop\n",
    "\n",
    "list_1 = [1,2,3,4,5,6,7,8,9,10]\n",
    "list_2 = [2,6,8,9,12]\n",
    "answer = []\n",
    "\n",
    "for i in range (1,len(list_1)+1):\n",
    "    if i not in list_2:\n",
    "        answer.append(i)\n",
    "        \n",
    "print (answer)"
   ]
  },
  {
   "cell_type": "markdown",
   "metadata": {},
   "source": [
    "Let's imagine that we have to input the two lists in the function, and it returns the answer:"
   ]
  },
  {
   "cell_type": "code",
   "execution_count": 11,
   "metadata": {},
   "outputs": [
    {
     "data": {
      "text/plain": [
       "[1, 3, 4, 5, 7, 10]"
      ]
     },
     "execution_count": 11,
     "metadata": {},
     "output_type": "execute_result"
    }
   ],
   "source": [
    "def remove_duplicates(a,b):\n",
    "    answer = []\n",
    "    for i in range (1,len(a)+1):\n",
    "        if i not in b:\n",
    "            answer.append(i)\n",
    "            \n",
    "    return answer\n",
    "    \n",
    "list_1 = [1,2,3,4,5,6,7,8,9,10]\n",
    "list_2 = [2,6,8,9,12]\n",
    "\n",
    "remove_duplicates(list_1,list_2)"
   ]
  },
  {
   "cell_type": "markdown",
   "metadata": {},
   "source": [
    "Now let's use sets"
   ]
  },
  {
   "cell_type": "code",
   "execution_count": 18,
   "metadata": {},
   "outputs": [
    {
     "data": {
      "text/plain": [
       "{1, 3, 4, 5, 7, 10}"
      ]
     },
     "execution_count": 18,
     "metadata": {},
     "output_type": "execute_result"
    }
   ],
   "source": [
    "# Using a loop\n",
    "def remove_duplicates_sets(a,b):\n",
    "    answer = (set_1 - (set_1 & set_2))\n",
    "    return answer\n",
    "    \n",
    "set_1 = {1,2,3,4,5,6,7,8,9,10}\n",
    "set_2 = {2,6,8,9,12}\n",
    "\n",
    "remove_duplicates_sets(set_1,set_2)"
   ]
  }
 ],
 "metadata": {
  "kernelspec": {
   "display_name": "Python 3",
   "language": "python",
   "name": "python3"
  },
  "language_info": {
   "codemirror_mode": {
    "name": "ipython",
    "version": 3
   },
   "file_extension": ".py",
   "mimetype": "text/x-python",
   "name": "python",
   "nbconvert_exporter": "python",
   "pygments_lexer": "ipython3",
   "version": "3.6.1"
  }
 },
 "nbformat": 4,
 "nbformat_minor": 2
}
