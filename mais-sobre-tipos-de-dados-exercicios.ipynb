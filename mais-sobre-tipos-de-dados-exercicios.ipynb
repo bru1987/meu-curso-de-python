{
 "cells": [
  {
   "cell_type": "markdown",
   "metadata": {},
   "source": [
    "# Exercícios - Listas"
   ]
  },
  {
   "cell_type": "markdown",
   "metadata": {
    "collapsed": true
   },
   "source": [
    "### Exercício"
   ]
  },
  {
   "cell_type": "markdown",
   "metadata": {
    "collapsed": true
   },
   "source": [
    "Dada a lista de emails abaixo, crie umanova lista com somente o provedor de cada email. ao fim, coloque a lista toda em lower caps.\n",
    "Exemplo: \"bru1987@Gmail.com\" deve se tornar \"gmail\""
   ]
  },
  {
   "cell_type": "code",
   "execution_count": 5,
   "metadata": {},
   "outputs": [
    {
     "name": "stdout",
     "output_type": "stream",
     "text": [
      "['bru1987@Gmail.com', 'PeDro_braganca@uol.com.br', 'juju_surfista@bol.com.br', 'THI_11@YAHOO.COM', 'safa_deza@yahoo.com.br', 'GUSTAVO_ALMEIDA@HOTmail.com']\n"
     ]
    }
   ],
   "source": [
    "lista_de_emails=[\"bru1987@Gmail.com\",\"PeDro_braganca@uol.com.br\",\"juju_surfista@bol.com.br\",\"THI_11@YAHOO.COM\",\"safa_deza@yahoo.com.br\",\"GUSTAVO_ALMEIDA@HOTmail.com\"]\n",
    "print(lista_de_emails)"
   ]
  },
  {
   "cell_type": "markdown",
   "metadata": {},
   "source": [
    "### Resposta"
   ]
  },
  {
   "cell_type": "code",
   "execution_count": 21,
   "metadata": {},
   "outputs": [
    {
     "data": {
      "text/plain": [
       "'gmail'"
      ]
     },
     "execution_count": 21,
     "metadata": {},
     "output_type": "execute_result"
    }
   ],
   "source": [
    "## Primeiramente vamos fazer um teste, retirando o provedor de um dos emails\n",
    "\n",
    "email = \"bru1987@Gmail.com\"\n",
    "\n",
    "# Fazendo a primeira quebra na srtring, no caractere \"@\" e guardando em uma nova variável\n",
    "# Importante: o resultado será uma lista, queremos o segundo elemento da lista (index 1)\n",
    "resultado = email.split(\"@\")[1]\n",
    "# Fazendo a segunda quebra na srtring, no caractere \"@\"\n",
    "# Importante: o resultado será uma lista, queremos o primeiro elemento da lista (index 0)\n",
    "resultado = resultado.split(\".\")[0]\n",
    "# utilizando caixa baixa:\n",
    "resultado = resultado.lower()"
   ]
  },
  {
   "cell_type": "code",
   "execution_count": 29,
   "metadata": {},
   "outputs": [
    {
     "name": "stdout",
     "output_type": "stream",
     "text": [
      "['gmail', 'uol', 'bol', 'yahoo', 'yahoo', 'hotmail']\n"
     ]
    }
   ],
   "source": [
    "## Devemos iterar este código em todos os itens da lista acima\n",
    "nova_lista = []\n",
    "for i in range(1,len(lista_de_emails)+1):\n",
    "    resultado = lista_de_emails[i-1].split(\"@\")[1]\n",
    "    # Fazendo a segunda quebra na srtring, no caractere \"@\"\n",
    "    # Importante: o resultado será uma lista, queremos o primeiro elemento da lista (index 0)\n",
    "    resultado = resultado.split(\".\")[0]\n",
    "    # utilizando caixa baixa:\n",
    "    resultado = resultado.lower()\n",
    "    nova_lista.append(resultado)\n",
    "    \n",
    "print(nova_lista)"
   ]
  },
  {
   "cell_type": "code",
   "execution_count": 30,
   "metadata": {},
   "outputs": [
    {
     "name": "stdout",
     "output_type": "stream",
     "text": [
      "['gmail', 'uol', 'bol', 'yahoo', 'yahoo', 'hotmail']\n"
     ]
    }
   ],
   "source": [
    "## Podemos simplificar bastante código acima, porém a leitura do código fica comprometida\n",
    "nova_lista = []\n",
    "\n",
    "for i in range(1,len(lista_de_emails)+1):\n",
    "    resultado = ((lista_de_emails[i-1].split(\"@\")[1]).split(\".\")[0]).lower()\n",
    "    nova_lista.append(resultado)\n",
    "    \n",
    "print(a)"
   ]
  },
  {
   "cell_type": "markdown",
   "metadata": {},
   "source": [
    "### Exercício"
   ]
  },
  {
   "cell_type": "code",
   "execution_count": null,
   "metadata": {
    "collapsed": true
   },
   "outputs": [],
   "source": []
  },
  {
   "cell_type": "markdown",
   "metadata": {},
   "source": [
    "### Resposta"
   ]
  },
  {
   "cell_type": "code",
   "execution_count": null,
   "metadata": {
    "collapsed": true
   },
   "outputs": [],
   "source": []
  },
  {
   "cell_type": "markdown",
   "metadata": {},
   "source": [
    "### Exercício"
   ]
  },
  {
   "cell_type": "markdown",
   "metadata": {},
   "source": [
    "Dada a lista de números primos menores do que 100\n",
    "\n",
    "primos = [2, 3, 5, 7, 11, 13, 17, 19, 23, 29, 31, 37, 41, 43, 47, 53, 59, 61, 67, 71, 73, 79, 83, 89, 97]\n",
    "\n",
    "(não, 1 não é um número primo!) escreva um programa que crie uma nova lista com todos os elementos da lista de primos porém menores do que 25.\n",
    "\n",
    "Exercícios extras:\n",
    "\n",
    "(a) Conte o número de elementos desta lista\n",
    "\n",
    "(b) Escreva o exercício em uma linha de código\n",
    "\n",
    "(c) Deixe que o usuário insira um número de forma que, a lista a ser retornada, deve conter números menores do que aquele inserido pelo usuário (aqui você pode utilizar loops). Utilizar append para acrescentar os elementos ao seu vetor de resposta (caso guarde as respostas em outro vetor)."
   ]
  },
  {
   "cell_type": "markdown",
   "metadata": {},
   "source": [
    "### Resposta"
   ]
  },
  {
   "cell_type": "code",
   "execution_count": 1,
   "metadata": {},
   "outputs": [
    {
     "name": "stdout",
     "output_type": "stream",
     "text": [
      "[2, 3, 5, 7, 11, 13, 17, 19]\n",
      "O número de elementos desta lista é 25\n",
      "[2, 3, 5, 7, 11, 13, 17, 19]\n",
      "Insira o valor máximo para a lista: 12\n",
      "Números primos até 12 : [2, 3, 5, 7, 11]\n"
     ]
    }
   ],
   "source": [
    "primos = [2, 3, 5, 7, 11, 13, 17, 19, 23, 29, 31, 37, 41, 43, 47, 53, 59, 61, 67, 71, 73, 79, 83, 89, 97]\n",
    "\n",
    "primos_abaixo_de_25 = primos[0:8]\n",
    "print(primos_abaixo_de_25)\n",
    "\n",
    "# (a) Exibindo o número de elementos da lista\n",
    "print(\"O número de elementos desta lista é\", len(primos))\n",
    "\n",
    "# (b) Uma só linha\n",
    "print(primos[0:8])\n",
    "\n",
    "# (c)Usando o input do usuário\n",
    "maximo = int(input(\"Insira o valor máximo para a lista: \"))\n",
    "nova_lista = []\n",
    "\n",
    "for i in primos:\n",
    "    if i <= maximo:\n",
    "        nova_lista.append(i) \n",
    "        \n",
    "print(\"Números primos até\", maximo,\":\",nova_lista)"
   ]
  },
  {
   "cell_type": "markdown",
   "metadata": {
    "collapsed": true
   },
   "source": [
    "### Exercício"
   ]
  },
  {
   "cell_type": "markdown",
   "metadata": {},
   "source": [
    "Take two lists, say for example these two:"
   ]
  },
  {
   "cell_type": "code",
   "execution_count": 32,
   "metadata": {
    "collapsed": true
   },
   "outputs": [],
   "source": [
    "a = [1, -1, 2, -2, 3, -3, 4, -4, 5, -5]\n",
    "b = [-1, 2, -4, 8, -16, 32]"
   ]
  },
  {
   "cell_type": "markdown",
   "metadata": {},
   "source": [
    "and write a program that returns a list that contains only the elements that are common between the lists (without duplicates). Make sure your program works on two lists of different sizes.\n",
    "\n",
    "Extras:\n",
    "\n",
    "- Randomly generate two lists to test this\n",
    "- Write this in one line of Python (don’t worry if you can’t figure this out at this point - we’ll get to it soon)"
   ]
  },
  {
   "cell_type": "markdown",
   "metadata": {},
   "source": [
    "### Resposta"
   ]
  },
  {
   "cell_type": "markdown",
   "metadata": {},
   "source": [
    "Uma das coisas interesantes que você pode fazer com listas em Python é descobrir se um dado elemento está contido em uma lista,da seguinte forma:"
   ]
  },
  {
   "cell_type": "code",
   "execution_count": 33,
   "metadata": {},
   "outputs": [
    {
     "name": "stdout",
     "output_type": "stream",
     "text": [
      "[1, -1, 2, -2, 3, -3, 4, -4, 5, -5]\n"
     ]
    }
   ],
   "source": [
    "print(a)"
   ]
  },
  {
   "cell_type": "code",
   "execution_count": 34,
   "metadata": {},
   "outputs": [
    {
     "data": {
      "text/plain": [
       "True"
      ]
     },
     "execution_count": 34,
     "metadata": {},
     "output_type": "execute_result"
    }
   ],
   "source": [
    "1 in a"
   ]
  },
  {
   "cell_type": "code",
   "execution_count": 36,
   "metadata": {},
   "outputs": [
    {
     "data": {
      "text/plain": [
       "True"
      ]
     },
     "execution_count": 36,
     "metadata": {},
     "output_type": "execute_result"
    }
   ],
   "source": [
    "-3 in a"
   ]
  },
  {
   "cell_type": "code",
   "execution_count": 37,
   "metadata": {},
   "outputs": [
    {
     "data": {
      "text/plain": [
       "False"
      ]
     },
     "execution_count": 37,
     "metadata": {},
     "output_type": "execute_result"
    }
   ],
   "source": [
    "16 in a"
   ]
  },
  {
   "cell_type": "markdown",
   "metadata": {},
   "source": [
    "Podemos utilizar isso a nosso favor, construindo um algoritmo que corra todos os elementos da lista `a` e cheque, um por um, se está contido na lista `b`:"
   ]
  },
  {
   "cell_type": "code",
   "execution_count": 47,
   "metadata": {},
   "outputs": [
    {
     "name": "stdout",
     "output_type": "stream",
     "text": [
      "[-1, 2, -4]\n"
     ]
    }
   ],
   "source": [
    "a = [1, -1, 2, -2, 3, -3, 4, -4, 5, -5]\n",
    "b = [-1, 2, -4, 8, -16, 32]\n",
    "resultado = []\n",
    "\n",
    "for i in range(len(a)):\n",
    "    if a[i] in b:\n",
    "        resultado.append(a[i])\n",
    "        \n",
    "print(resultado)"
   ]
  },
  {
   "cell_type": "markdown",
   "metadata": {},
   "source": [
    "Gerando agora duas listas aleatórias, com um número de elementos que pode variar de 5 até 20, temos:"
   ]
  },
  {
   "cell_type": "code",
   "execution_count": 107,
   "metadata": {},
   "outputs": [
    {
     "name": "stdout",
     "output_type": "stream",
     "text": [
      "Númerode elementos em a:  19\n",
      "Númerode elementos em b:  9\n",
      "Lista a:  [-10, -8, -8, -8, -7, -5, -5, -5, -4, -2, -2, 3, 5, 5, 5, 6, 6, 8, 9]\n",
      "Lista b:  [-10, -5, -1, 0, 1, 2, 3, 4, 5]\n",
      "Números em comum:  [-10, -5, 3, 5]\n"
     ]
    }
   ],
   "source": [
    "from random import randint\n",
    "\n",
    "# Aqui estamos definindo o número de elementos em cada lista, de 15 (mínimo) a 20 elementos (máximo)\n",
    "numero_elementos_a = (randint(5, 20))\n",
    "numero_elementos_b = (randint(5, 20))\n",
    "\n",
    "# Aqui vamos definir, aleatoriamente, números que variam de -10 a 10 (inclusive)\n",
    "a = [randint(-10,10) for i in range(numero_elementos_a)]\n",
    "b = [randint(-10,10) for i in range(numero_elementos_b)]\n",
    "\n",
    "# Vamos colocá-los em ordem crescente (assim podemos conferir de forma mais rápida)\n",
    "a.sort()\n",
    "b.sort()\n",
    "\n",
    "resultado = []\n",
    "\n",
    "for i in range(len(a)):\n",
    "    if (a[i] in b) & (a[i] not in resultado): # Aqui precisamos checar também se o número já existe na lista\n",
    "        resultado.append(a[i])\n",
    "\n",
    "print(\"Númerode elementos em a: \", numero_elementos_a)\n",
    "print(\"Númerode elementos em b: \", numero_elementos_b)\n",
    "print(\"Lista a: \", a)\n",
    "print(\"Lista b: \", b)\n",
    "print(\"Números em comum: \", resultado)"
   ]
  },
  {
   "cell_type": "markdown",
   "metadata": {},
   "source": [
    "### Exercício"
   ]
  },
  {
   "cell_type": "markdown",
   "metadata": {},
   "source": [
    "Ask the user for a number and print out whether this number is a palindrome or not. \n",
    "(A palindrome is a number that reads the same forwards and backwards.)"
   ]
  },
  {
   "cell_type": "markdown",
   "metadata": {},
   "source": [
    "### Resposta"
   ]
  },
  {
   "cell_type": "code",
   "execution_count": 11,
   "metadata": {},
   "outputs": [
    {
     "name": "stdout",
     "output_type": "stream",
     "text": [
      "Insira um número: 121\n",
      "É palíndromo\n"
     ]
    }
   ],
   "source": [
    "# Input do usuário\n",
    "str = input(\"Insira um número: \")\n",
    "\n",
    "# We need to know how many characters are in the string so we can place a \"pointer\" in the middle\n",
    "string_size = len(str)\n",
    "\n",
    "if string_size % 2 != 0:\n",
    "    stop = int((string_size - 1) / 2)\n",
    "else:\n",
    "    stop = int(string_size / 2)\n",
    "    \n",
    "# Checking all numbers\n",
    "for i in (0,stop):\n",
    "    if str[i] != str[-i-1]:\n",
    "        print(\"Não é palíndromo\")\n",
    "        break\n",
    "    elif i == stop:\n",
    "        print(\"É palíndromo\")"
   ]
  },
  {
   "cell_type": "markdown",
   "metadata": {
    "collapsed": true
   },
   "source": [
    "### Fórmula de Bháskara"
   ]
  },
  {
   "cell_type": "markdown",
   "metadata": {},
   "source": [
    "..."
   ]
  },
  {
   "cell_type": "markdown",
   "metadata": {},
   "source": [
    "### Resposta"
   ]
  },
  {
   "cell_type": "code",
   "execution_count": 1,
   "metadata": {},
   "outputs": [
    {
     "name": "stdout",
     "output_type": "stream",
     "text": [
      "Insert coefficient a: 2\n",
      "Insert coefficient b: 2\n",
      "Insert coefficient c: 2\n",
      "The function has two complex (conjugate) roots:  (-0.5+0.8660254037844386j)  and  (-0.5-0.8660254037844386j)\n"
     ]
    }
   ],
   "source": [
    "import math\n",
    "\n",
    "# User inserting the values of a, b and c\n",
    "a = float(input(\"Insert coefficient a: \"))\n",
    "b = float(input(\"Insert coefficient b: \"))\n",
    "c = float(input(\"Insert coefficient c: \"))\n",
    "\n",
    "discriminant = b**2 - 4 * a * c\n",
    "\n",
    "if discriminant >= 0:\n",
    "    x_1=(-b+math.sqrt(discriminant))/2*a\n",
    "    x_2=(-b-math.sqrt(discriminant))/2*a\n",
    "else:\n",
    "    x_1= complex((-b/(2*a)),math.sqrt(-discriminant)/(2*a))\n",
    "    x_2= complex((-b/(2*a)),-math.sqrt(-discriminant)/(2*a))\n",
    "    \n",
    "if discriminant > 0:\n",
    "    print(\"The function has two distinct real roots: \", x_1, \" and \", x_2)\n",
    "elif discriminant == 0:\n",
    "    print(\"The function has one double root: \", x_1)\n",
    "else:\n",
    "    print(\"The function has two complex (conjugate) roots: \", x_1, \" and \", x_2)"
   ]
  },
  {
   "cell_type": "markdown",
   "metadata": {},
   "source": [
    "### Exercise"
   ]
  },
  {
   "cell_type": "markdown",
   "metadata": {},
   "source": [
    "\n",
    "Write a program (using functions!) that asks the user for a long string containing multiple words. Print back to the user the same string, except with the words in backwards order. For example, say I type the string:\n",
    "\n",
    "  My name is Michele\n",
    "Then I would see the string:\n",
    "\n",
    "  Michele is name My\n",
    "shown back to me.\n",
    "\n",
    "Use functions!"
   ]
  },
  {
   "cell_type": "markdown",
   "metadata": {},
   "source": [
    "### Solution"
   ]
  },
  {
   "cell_type": "code",
   "execution_count": 14,
   "metadata": {},
   "outputs": [
    {
     "name": "stdout",
     "output_type": "stream",
     "text": [
      "Write a string: A B C\n",
      "C B A\n"
     ]
    }
   ],
   "source": [
    "def reverse(str):\n",
    "    \n",
    "    final_str = str.split(\" \")\n",
    "    final_str = sorted(final_str, reverse=True)\n",
    "    final_str = \" \".join(final_str)\n",
    "    print(final_str)\n",
    "    return\n",
    "\n",
    "a = input(\"Insert a string: \")\n",
    "reverse(a)"
   ]
  },
  {
   "cell_type": "code",
   "execution_count": null,
   "metadata": {
    "collapsed": true
   },
   "outputs": [],
   "source": []
  }
 ],
 "metadata": {
  "kernelspec": {
   "display_name": "Python 3",
   "language": "python",
   "name": "python3"
  },
  "language_info": {
   "codemirror_mode": {
    "name": "ipython",
    "version": 3
   },
   "file_extension": ".py",
   "mimetype": "text/x-python",
   "name": "python",
   "nbconvert_exporter": "python",
   "pygments_lexer": "ipython3",
   "version": "3.6.1"
  }
 },
 "nbformat": 4,
 "nbformat_minor": 2
}
